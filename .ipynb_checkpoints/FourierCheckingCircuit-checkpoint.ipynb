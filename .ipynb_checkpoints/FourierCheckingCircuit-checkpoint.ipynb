{
 "cells": [
  {
   "cell_type": "code",
   "execution_count": 1,
   "metadata": {},
   "outputs": [
    {
     "ename": "ModuleNotFoundError",
     "evalue": "No module named 'qiskit'",
     "output_type": "error",
     "traceback": [
      "\u001b[1;31m---------------------------------------------------------------------------\u001b[0m",
      "\u001b[1;31mModuleNotFoundError\u001b[0m                       Traceback (most recent call last)",
      "\u001b[1;32m<ipython-input-1-66b8ffe14308>\u001b[0m in \u001b[0;36m<module>\u001b[1;34m\u001b[0m\n\u001b[1;32m----> 1\u001b[1;33m \u001b[1;32mimport\u001b[0m \u001b[0mqiskit\u001b[0m\u001b[1;33m.\u001b[0m\u001b[0mquantum_info\u001b[0m \u001b[1;32mas\u001b[0m \u001b[0mqi\u001b[0m\u001b[1;33m\u001b[0m\u001b[1;33m\u001b[0m\u001b[0m\n\u001b[0m\u001b[0;32m      2\u001b[0m \u001b[1;32mfrom\u001b[0m \u001b[0mqiskit\u001b[0m\u001b[1;33m.\u001b[0m\u001b[0mcircuit\u001b[0m\u001b[1;33m.\u001b[0m\u001b[0mlibrary\u001b[0m \u001b[1;32mimport\u001b[0m \u001b[0mFourierChecking\u001b[0m\u001b[1;33m\u001b[0m\u001b[1;33m\u001b[0m\u001b[0m\n\u001b[0;32m      3\u001b[0m \u001b[1;32mfrom\u001b[0m \u001b[0mqiskit\u001b[0m\u001b[1;33m.\u001b[0m\u001b[0mvisualization\u001b[0m \u001b[1;32mimport\u001b[0m \u001b[0mplot_histogram\u001b[0m\u001b[1;33m\u001b[0m\u001b[1;33m\u001b[0m\u001b[0m\n",
      "\u001b[1;31mModuleNotFoundError\u001b[0m: No module named 'qiskit'"
     ]
    }
   ],
   "source": []
  },
  {
   "cell_type": "code",
   "execution_count": 2,
   "metadata": {},
   "outputs": [
    {
     "name": "stdout",
     "output_type": "stream",
     "text": [
      "Collecting qiskit\n",
      "  Downloading qiskit-0.28.0.tar.gz (12 kB)\n",
      "Collecting qiskit-terra==0.18.0\n",
      "  Downloading qiskit_terra-0.18.0-cp38-cp38-win_amd64.whl (5.3 MB)\n",
      "Collecting qiskit-aer==0.8.2\n",
      "  Downloading qiskit_aer-0.8.2-cp38-cp38-win_amd64.whl (24.2 MB)\n",
      "Collecting qiskit-ibmq-provider==0.15.0\n",
      "  Downloading qiskit_ibmq_provider-0.15.0-py3-none-any.whl (234 kB)\n",
      "Note: you may need to restart the kernel to use updated packages.Collecting qiskit-ignis==0.6.0\n",
      "  Downloading qiskit_ignis-0.6.0-py3-none-any.whl (207 kB)\n",
      "Collecting qiskit-aqua==0.9.4\n",
      "  Downloading qiskit_aqua-0.9.4-py3-none-any.whl (2.1 MB)\n",
      "Collecting python-constraint>=1.4\n",
      "  Downloading python-constraint-1.4.0.tar.bz2 (18 kB)\n",
      "Requirement already satisfied: scipy>=1.4 in c:\\users\\sefun\\anaconda3\\lib\\site-packages (from qiskit-terra==0.18.0->qiskit) (1.5.2)\n",
      "Requirement already satisfied: jsonschema>=2.6 in c:\\users\\sefun\\anaconda3\\lib\\site-packages (from qiskit-terra==0.18.0->qiskit) (3.2.0)\n",
      "Requirement already satisfied: sympy>=1.3 in c:\\users\\sefun\\anaconda3\\lib\\site-packages (from qiskit-terra==0.18.0->qiskit) (1.6.2)\n",
      "Requirement already satisfied: numpy>=1.17 in c:\\users\\sefun\\anaconda3\\lib\\site-packages (from qiskit-terra==0.18.0->qiskit) (1.19.2)\n",
      "Requirement already satisfied: psutil>=5 in c:\\users\\sefun\\anaconda3\\lib\\site-packages (from qiskit-terra==0.18.0->qiskit) (5.7.2)\n",
      "Collecting retworkx>=0.9.0\n",
      "  Downloading retworkx-0.9.0-cp38-cp38-win_amd64.whl (1.1 MB)\n",
      "Requirement already satisfied: ply>=3.10 in c:\\users\\sefun\\anaconda3\\lib\\site-packages (from qiskit-terra==0.18.0->qiskit) (3.11)\n",
      "Collecting tweedledum<2.0,>=1.1\n",
      "  Downloading tweedledum-1.1.0-cp38-cp38-win_amd64.whl (1.1 MB)\n",
      "Requirement already satisfied: python-dateutil>=2.8.0 in c:\\users\\sefun\\anaconda3\\lib\\site-packages (from qiskit-terra==0.18.0->qiskit) (2.8.1)\n",
      "Collecting fastjsonschema>=2.10\n",
      "\n",
      "  Downloading fastjsonschema-2.15.1-py3-none-any.whl (21 kB)\n",
      "Collecting dill>=0.3\n",
      "  Downloading dill-0.3.4-py2.py3-none-any.whl (86 kB)\n",
      "Collecting pybind11>=2.6\n",
      "  Downloading pybind11-2.7.0-py2.py3-none-any.whl (199 kB)\n",
      "Requirement already satisfied: requests>=2.19 in c:\\users\\sefun\\anaconda3\\lib\\site-packages (from qiskit-ibmq-provider==0.15.0->qiskit) (2.24.0)\n",
      "Collecting websocket-client>=1.0.1\n",
      "  Downloading websocket_client-1.1.0-py2.py3-none-any.whl (68 kB)\n",
      "Collecting requests-ntlm>=1.1.0\n",
      "  Using cached requests_ntlm-1.1.0-py2.py3-none-any.whl (5.7 kB)\n",
      "Requirement already satisfied: urllib3>=1.21.1 in c:\\users\\sefun\\anaconda3\\lib\\site-packages (from qiskit-ibmq-provider==0.15.0->qiskit) (1.25.11)\n",
      "Requirement already satisfied: setuptools>=40.1.0 in c:\\users\\sefun\\anaconda3\\lib\\site-packages (from qiskit-ignis==0.6.0->qiskit) (50.3.1.post20201107)\n",
      "Collecting yfinance<0.1.63\n",
      "  Downloading yfinance-0.1.62.tar.gz (26 kB)\n",
      "Requirement already satisfied: pandas in c:\\users\\sefun\\anaconda3\\lib\\site-packages (from qiskit-aqua==0.9.4->qiskit) (1.1.3)\n",
      "Requirement already satisfied: h5py<3.3.0 in c:\\users\\sefun\\anaconda3\\lib\\site-packages (from qiskit-aqua==0.9.4->qiskit) (2.10.0)\n",
      "Collecting docplex>=2.21.207\n",
      "  Downloading docplex-2.21.207.tar.gz (635 kB)\n",
      "Collecting fastdtw<=0.3.4\n",
      "  Using cached fastdtw-0.3.4.tar.gz (133 kB)\n",
      "Requirement already satisfied: scikit-learn>=0.20.0 in c:\\users\\sefun\\anaconda3\\lib\\site-packages (from qiskit-aqua==0.9.4->qiskit) (0.23.2)\n",
      "Collecting quandl\n",
      "  Downloading Quandl-3.6.1-py2.py3-none-any.whl (26 kB)\n",
      "Collecting dlx<=1.0.4\n",
      "  Using cached dlx-1.0.4.tar.gz (5.5 kB)\n",
      "Requirement already satisfied: six>=1.11.0 in c:\\users\\sefun\\anaconda3\\lib\\site-packages (from jsonschema>=2.6->qiskit-terra==0.18.0->qiskit) (1.15.0)\n",
      "Requirement already satisfied: attrs>=17.4.0 in c:\\users\\sefun\\anaconda3\\lib\\site-packages (from jsonschema>=2.6->qiskit-terra==0.18.0->qiskit) (20.3.0)\n",
      "Requirement already satisfied: pyrsistent>=0.14.0 in c:\\users\\sefun\\anaconda3\\lib\\site-packages (from jsonschema>=2.6->qiskit-terra==0.18.0->qiskit) (0.17.3)\n",
      "Requirement already satisfied: mpmath>=0.19 in c:\\users\\sefun\\anaconda3\\lib\\site-packages (from sympy>=1.3->qiskit-terra==0.18.0->qiskit) (1.1.0)\n",
      "Requirement already satisfied: certifi>=2017.4.17 in c:\\users\\sefun\\anaconda3\\lib\\site-packages (from requests>=2.19->qiskit-ibmq-provider==0.15.0->qiskit) (2020.12.5)\n",
      "Requirement already satisfied: idna<3,>=2.5 in c:\\users\\sefun\\anaconda3\\lib\\site-packages (from requests>=2.19->qiskit-ibmq-provider==0.15.0->qiskit) (2.10)\n",
      "Requirement already satisfied: chardet<4,>=3.0.2 in c:\\users\\sefun\\anaconda3\\lib\\site-packages (from requests>=2.19->qiskit-ibmq-provider==0.15.0->qiskit) (3.0.4)\n",
      "Collecting ntlm-auth>=1.0.2\n",
      "  Downloading ntlm_auth-1.5.0-py2.py3-none-any.whl (29 kB)\n",
      "Requirement already satisfied: cryptography>=1.3 in c:\\users\\sefun\\anaconda3\\lib\\site-packages (from requests-ntlm>=1.1.0->qiskit-ibmq-provider==0.15.0->qiskit) (3.1.1)\n",
      "Collecting multitasking>=0.0.7\n",
      "  Downloading multitasking-0.0.9.tar.gz (8.1 kB)\n",
      "Requirement already satisfied: lxml>=4.5.1 in c:\\users\\sefun\\anaconda3\\lib\\site-packages (from yfinance<0.1.63->qiskit-aqua==0.9.4->qiskit) (4.6.1)\n",
      "Requirement already satisfied: pytz>=2017.2 in c:\\users\\sefun\\anaconda3\\lib\\site-packages (from pandas->qiskit-aqua==0.9.4->qiskit) (2020.1)\n",
      "Requirement already satisfied: joblib>=0.11 in c:\\users\\sefun\\anaconda3\\lib\\site-packages (from scikit-learn>=0.20.0->qiskit-aqua==0.9.4->qiskit) (0.17.0)\n",
      "Requirement already satisfied: threadpoolctl>=2.0.0 in c:\\users\\sefun\\anaconda3\\lib\\site-packages (from scikit-learn>=0.20.0->qiskit-aqua==0.9.4->qiskit) (2.1.0)\n",
      "Collecting inflection>=0.3.1\n",
      "  Downloading inflection-0.5.1-py2.py3-none-any.whl (9.5 kB)\n",
      "Requirement already satisfied: more-itertools in c:\\users\\sefun\\anaconda3\\lib\\site-packages (from quandl->qiskit-aqua==0.9.4->qiskit) (8.6.0)\n",
      "Requirement already satisfied: cffi!=1.11.3,>=1.8 in c:\\users\\sefun\\anaconda3\\lib\\site-packages (from cryptography>=1.3->requests-ntlm>=1.1.0->qiskit-ibmq-provider==0.15.0->qiskit) (1.14.3)\n",
      "Requirement already satisfied: pycparser in c:\\users\\sefun\\anaconda3\\lib\\site-packages (from cffi!=1.11.3,>=1.8->cryptography>=1.3->requests-ntlm>=1.1.0->qiskit-ibmq-provider==0.15.0->qiskit) (2.20)\n",
      "Building wheels for collected packages: qiskit, python-constraint, yfinance, docplex, fastdtw, dlx, multitasking\n",
      "  Building wheel for qiskit (setup.py): started\n",
      "  Building wheel for qiskit (setup.py): finished with status 'done'\n",
      "  Created wheel for qiskit: filename=qiskit-0.28.0-py3-none-any.whl size=11081 sha256=bf5b783f5d589d9daa7d6f8fedbe31b0a6b00dfbb1a90a99459c80b4ff3585d8\n",
      "  Stored in directory: c:\\users\\sefun\\appdata\\local\\pip\\cache\\wheels\\78\\14\\63\\395371ba98bced108a579d5e95c03676f2c8a72614b51c5580\n",
      "  Building wheel for python-constraint (setup.py): started\n",
      "  Building wheel for python-constraint (setup.py): finished with status 'done'\n",
      "  Created wheel for python-constraint: filename=python_constraint-1.4.0-py2.py3-none-any.whl size=24086 sha256=32342b61b677d676b798f4fb8086856a520401cae8078768ccfbcfbeedf019fe\n",
      "  Stored in directory: c:\\users\\sefun\\appdata\\local\\pip\\cache\\wheels\\86\\ba\\5c\\4e9115777de42c6a2e1ca77ef7c9d0d479254c5080341b55c5\n",
      "  Building wheel for yfinance (setup.py): started\n",
      "  Building wheel for yfinance (setup.py): finished with status 'done'\n",
      "  Created wheel for yfinance: filename=yfinance-0.1.62-py2.py3-none-any.whl size=23866 sha256=894b4c156084596e016298859bd44268dd70f24f1273cb86cf4893f78346f398\n",
      "  Stored in directory: c:\\users\\sefun\\appdata\\local\\pip\\cache\\wheels\\64\\9e\\c0\\71eb88c1d7be0b5575d10b5de86ccff9b2f4850583d7c36bd3\n",
      "  Building wheel for docplex (setup.py): started\n",
      "  Building wheel for docplex (setup.py): finished with status 'done'\n",
      "  Created wheel for docplex: filename=docplex-2.21.207-py3-none-any.whl size=700518 sha256=e853d4edeb1e78b82b5d93c5b7768601c7a3babaebbd1159ae5fb30770c917f9\n",
      "  Stored in directory: c:\\users\\sefun\\appdata\\local\\pip\\cache\\wheels\\d9\\5c\\27\\4ba7aae62df02c375429a55344b515979976eb63bfa9adefdb\n",
      "  Building wheel for fastdtw (setup.py): started\n",
      "  Building wheel for fastdtw (setup.py): finished with status 'done'\n",
      "  Created wheel for fastdtw: filename=fastdtw-0.3.4-py3-none-any.whl size=3595 sha256=972045ccadcc7297539015f34ca64dd2d2696114961154d8426b4516b9a9ce07\n",
      "  Stored in directory: c:\\users\\sefun\\appdata\\local\\pip\\cache\\wheels\\e9\\ac\\30\\c962f9d759dd68cb5482727c44441fdfb48040fdbe983857e8\n",
      "  Building wheel for dlx (setup.py): started\n",
      "  Building wheel for dlx (setup.py): finished with status 'done'\n",
      "  Created wheel for dlx: filename=dlx-1.0.4-py3-none-any.whl size=5713 sha256=91979995378d69feb7dee5f5c22f1832044912c60b6b068e5e97bad402177799\n",
      "  Stored in directory: c:\\users\\sefun\\appdata\\local\\pip\\cache\\wheels\\c4\\03\\f9\\7afbf40e0c3d6928d16bcadb46264a6e68704998ec72f7ea13\n",
      "  Building wheel for multitasking (setup.py): started\n",
      "  Building wheel for multitasking (setup.py): finished with status 'done'\n",
      "  Created wheel for multitasking: filename=multitasking-0.0.9-py3-none-any.whl size=8372 sha256=809afde79936a4b1dfe686e27a223e89bd71faef003ae65de7274c978fc1fa74\n",
      "  Stored in directory: c:\\users\\sefun\\appdata\\local\\pip\\cache\\wheels\\57\\6d\\a3\\a39b839cc75274d2acfb1c58bfead2f726c6577fe8c4723f13\n",
      "Successfully built qiskit python-constraint yfinance docplex fastdtw dlx multitasking\n",
      "Installing collected packages: python-constraint, retworkx, tweedledum, fastjsonschema, dill, qiskit-terra, pybind11, qiskit-aer, websocket-client, ntlm-auth, requests-ntlm, qiskit-ibmq-provider, qiskit-ignis, multitasking, yfinance, docplex, fastdtw, inflection, quandl, dlx, qiskit-aqua, qiskit\n",
      "Successfully installed dill-0.3.4 dlx-1.0.4 docplex-2.21.207 fastdtw-0.3.4 fastjsonschema-2.15.1 inflection-0.5.1 multitasking-0.0.9 ntlm-auth-1.5.0 pybind11-2.7.0 python-constraint-1.4.0 qiskit-0.28.0 qiskit-aer-0.8.2 qiskit-aqua-0.9.4 qiskit-ibmq-provider-0.15.0 qiskit-ignis-0.6.0 qiskit-terra-0.18.0 quandl-3.6.1 requests-ntlm-1.1.0 retworkx-0.9.0 tweedledum-1.1.0 websocket-client-1.1.0 yfinance-0.1.62\n"
     ]
    }
   ],
   "source": [
    "pip install qiskit\n"
   ]
  },
  {
   "cell_type": "code",
   "execution_count": 3,
   "metadata": {},
   "outputs": [],
   "source": [
    "import qiskit.quantum_info as qi\n",
    "from qiskit.circuit.library import FourierChecking\n",
    "from qiskit.visualization import plot_histogram"
   ]
  },
  {
   "cell_type": "code",
   "execution_count": 4,
   "metadata": {},
   "outputs": [],
   "source": [
    "f = [1,-1,-1,-1]\n",
    "g = [1,1,-1,-1]"
   ]
  },
  {
   "cell_type": "code",
   "execution_count": 6,
   "metadata": {},
   "outputs": [
    {
     "data": {
      "text/html": [
       "<pre style=\"word-wrap: normal;white-space: pre;background: #fff0;line-height: 1.1;font-family: &quot;Courier New&quot;,Courier,monospace\">     ┌──────────────────────────────────────┐\n",
       "q_0: ┤0                                     ├\n",
       "     │  fc: [1, -1, -1, -1], [1, 1, -1, -1] │\n",
       "q_1: ┤1                                     ├\n",
       "     └──────────────────────────────────────┘</pre>"
      ],
      "text/plain": [
       "     ┌──────────────────────────────────────┐\n",
       "q_0: ┤0                                     ├\n",
       "     │  fc: [1, -1, -1, -1], [1, 1, -1, -1] │\n",
       "q_1: ┤1                                     ├\n",
       "     └──────────────────────────────────────┘"
      ]
     },
     "execution_count": 6,
     "metadata": {},
     "output_type": "execute_result"
    }
   ],
   "source": [
    "circ = FourierChecking(f=f,g=g)\n",
    "circ.draw()"
   ]
  },
  {
   "cell_type": "code",
   "execution_count": 8,
   "metadata": {},
   "outputs": [
    {
     "data": {
      "image/png": "[encoded data removed]",
      "text/plain": [
       "<Figure size 504x360 with 1 Axes>"
      ]
     },
     "execution_count": 8,
     "metadata": {},
     "output_type": "execute_result"
    }
   ],
   "source": [
    "zero = qi.Statevector.from_label('10')\n",
    "sv = zero.evolve(circ)\n",
    "probs = sv.probabilities_dict()\n",
    "plot_histogram(probs)"
   ]
  },
  {
   "cell_type": "code",
   "execution_count": null,
   "metadata": {},
   "outputs": [],
   "source": []
  }
 ],
 "metadata": {
  "kernelspec": {
   "display_name": "Python 3",
   "language": "python",
   "name": "python3"
  },
  "language_info": {
   "codemirror_mode": {
    "name": "ipython",
    "version": 3
   },
   "file_extension": ".py",
   "mimetype": "text/x-python",
   "name": "python",
   "nbconvert_exporter": "python",
   "pygments_lexer": "ipython3",
   "version": "3.8.5"
  }
 },
 "nbformat": 4,
 "nbformat_minor": 4
}
