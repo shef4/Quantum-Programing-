{
 "cells": [
  {
   "cell_type": "code",
   "execution_count": null,
   "metadata": {},
   "outputs": [],
   "source": []
  },
  {
   "cell_type": "code",
   "execution_count": 1,
   "metadata": {},
   "outputs": [
    {
     "name": "stdout",
     "output_type": "stream",
     "text": [
      "Requirement already satisfied: qiskit in c:\\users\\sefun\\anaconda3\\lib\\site-packages (0.28.0)\n",
      "Requirement already satisfied: qiskit-ignis==0.6.0 in c:\\users\\sefun\\anaconda3\\lib\\site-packages (from qiskit) (0.6.0)\n",
      "Requirement already satisfied: qiskit-aqua==0.9.4 in c:\\users\\sefun\\anaconda3\\lib\\site-packages (from qiskit) (0.9.4)\n",
      "Requirement already satisfied: qiskit-aer==0.8.2 in c:\\users\\sefun\\anaconda3\\lib\\site-packages (from qiskit) (0.8.2)\n",
      "Requirement already satisfied: qiskit-ibmq-provider==0.15.0 in c:\\users\\sefun\\anaconda3\\lib\\site-packages (from qiskit) (0.15.0)\n",
      "Requirement already satisfied: qiskit-terra==0.18.0 in c:\\users\\sefun\\anaconda3\\lib\\site-packages (from qiskit) (0.18.0)\n",
      "Requirement already satisfied: setuptools>=40.1.0 in c:\\users\\sefun\\anaconda3\\lib\\site-packages (from qiskit-ignis==0.6.0->qiskit) (50.3.1.post20201107)\n",
      "Requirement already satisfied: retworkx>=0.8.0 in c:\\users\\sefun\\anaconda3\\lib\\site-packages (from qiskit-ignis==0.6.0->qiskit) (0.9.0)\n",
      "Requirement already satisfied: scipy!=0.19.1,>=0.19 in c:\\users\\sefun\\anaconda3\\lib\\site-packages (from qiskit-ignis==0.6.0->qiskit) (1.5.2)\n",
      "Requirement already satisfied: numpy>=1.13 in c:\\users\\sefun\\anaconda3\\lib\\site-packages (from qiskit-ignis==0.6.0->qiskit) (1.19.2)\n",
      "Requirement already satisfied: scikit-learn>=0.20.0 in c:\\users\\sefun\\anaconda3\\lib\\site-packages (from qiskit-aqua==0.9.4->qiskit) (0.23.2)\n",
      "Requirement already satisfied: sympy>=1.3 in c:\\users\\sefun\\anaconda3\\lib\\site-packages (from qiskit-aqua==0.9.4->qiskit) (1.6.2)\n",
      "Requirement already satisfied: psutil>=5 in c:\\users\\sefun\\anaconda3\\lib\\site-packages (from qiskit-aqua==0.9.4->qiskit) (5.7.2)\n",
      "Requirement already satisfied: dlx<=1.0.4 in c:\\users\\sefun\\anaconda3\\lib\\site-packages (from qiskit-aqua==0.9.4->qiskit) (1.0.4)\n",
      "Requirement already satisfied: h5py<3.3.0 in c:\\users\\sefun\\anaconda3\\lib\\site-packages (from qiskit-aqua==0.9.4->qiskit) (2.10.0)\n",
      "Requirement already satisfied: fastdtw<=0.3.4 in c:\\users\\sefun\\anaconda3\\lib\\site-packages (from qiskit-aqua==0.9.4->qiskit) (0.3.4)\n",
      "Requirement already satisfied: pandas in c:\\users\\sefun\\anaconda3\\lib\\site-packages (from qiskit-aqua==0.9.4->qiskit) (1.1.3)\n",
      "Requirement already satisfied: quandl in c:\\users\\sefun\\anaconda3\\lib\\site-packages (from qiskit-aqua==0.9.4->qiskit) (3.6.1)\n",
      "Requirement already satisfied: docplex>=2.21.207 in c:\\users\\sefun\\anaconda3\\lib\\site-packages (from qiskit-aqua==0.9.4->qiskit) (2.21.207)\n",
      "Requirement already satisfied: yfinance<0.1.63 in c:\\users\\sefun\\anaconda3\\lib\\site-packages (from qiskit-aqua==0.9.4->qiskit) (0.1.62)\n",
      "Requirement already satisfied: pybind11>=2.6 in c:\\users\\sefun\\anaconda3\\lib\\site-packages (from qiskit-aer==0.8.2->qiskit) (2.7.0)\n",
      "Requirement already satisfied: websocket-client>=1.0.1 in c:\\users\\sefun\\anaconda3\\lib\\site-packages (from qiskit-ibmq-provider==0.15.0->qiskit) (1.1.0)\n",
      "Requirement already satisfied: requests-ntlm>=1.1.0 in c:\\users\\sefun\\anaconda3\\lib\\site-packages (from qiskit-ibmq-provider==0.15.0->qiskit) (1.1.0)\n",
      "Requirement already satisfied: urllib3>=1.21.1 in c:\\users\\sefun\\anaconda3\\lib\\site-packages (from qiskit-ibmq-provider==0.15.0->qiskit) (1.25.11)\n",
      "Requirement already satisfied: requests>=2.19 in c:\\users\\sefun\\anaconda3\\lib\\site-packages (from qiskit-ibmq-provider==0.15.0->qiskit) (2.24.0)\n",
      "Requirement already satisfied: python-dateutil>=2.8.0 in c:\\users\\sefun\\anaconda3\\lib\\site-packages (from qiskit-ibmq-provider==0.15.0->qiskit) (2.8.1)\n",
      "Requirement already satisfied: tweedledum<2.0,>=1.1 in c:\\users\\sefun\\anaconda3\\lib\\site-packages (from qiskit-terra==0.18.0->qiskit) (1.1.0)\n",
      "Requirement already satisfied: fastjsonschema>=2.10 in c:\\users\\sefun\\anaconda3\\lib\\site-packages (from qiskit-terra==0.18.0->qiskit) (2.15.1)\n",
      "Requirement already satisfied: jsonschema>=2.6 in c:\\users\\sefun\\anaconda3\\lib\\site-packages (from qiskit-terra==0.18.0->qiskit) (3.2.0)\n",
      "Requirement already satisfied: dill>=0.3 in c:\\users\\sefun\\anaconda3\\lib\\site-packages (from qiskit-terra==0.18.0->qiskit) (0.3.4)\n",
      "Requirement already satisfied: python-constraint>=1.4 in c:\\users\\sefun\\anaconda3\\lib\\site-packages (from qiskit-terra==0.18.0->qiskit) (1.4.0)\n",
      "Requirement already satisfied: ply>=3.10 in c:\\users\\sefun\\anaconda3\\lib\\site-packages (from qiskit-terra==0.18.0->qiskit) (3.11)\n",
      "Requirement already satisfied: joblib>=0.11 in c:\\users\\sefun\\anaconda3\\lib\\site-packages (from scikit-learn>=0.20.0->qiskit-aqua==0.9.4->qiskit) (0.17.0)\n",
      "Requirement already satisfied: threadpoolctl>=2.0.0 in c:\\users\\sefun\\anaconda3\\lib\\site-packages (from scikit-learn>=0.20.0->qiskit-aqua==0.9.4->qiskit) (2.1.0)\n",
      "Requirement already satisfied: mpmath>=0.19 in c:\\users\\sefun\\anaconda3\\lib\\site-packages (from sympy>=1.3->qiskit-aqua==0.9.4->qiskit) (1.1.0)\n",
      "Requirement already satisfied: six in c:\\users\\sefun\\anaconda3\\lib\\site-packages (from h5py<3.3.0->qiskit-aqua==0.9.4->qiskit) (1.15.0)\n",
      "Requirement already satisfied: pytz>=2017.2 in c:\\users\\sefun\\anaconda3\\lib\\site-packages (from pandas->qiskit-aqua==0.9.4->qiskit) (2020.1)\n",
      "Requirement already satisfied: inflection>=0.3.1 in c:\\users\\sefun\\anaconda3\\lib\\site-packages (from quandl->qiskit-aqua==0.9.4->qiskit) (0.5.1)\n",
      "Requirement already satisfied: more-itertools in c:\\users\\sefun\\anaconda3\\lib\\site-packages (from quandl->qiskit-aqua==0.9.4->qiskit) (8.6.0)\n",
      "Requirement already satisfied: lxml>=4.5.1 in c:\\users\\sefun\\anaconda3\\lib\\site-packages (from yfinance<0.1.63->qiskit-aqua==0.9.4->qiskit) (4.6.1)\n",
      "Requirement already satisfied: multitasking>=0.0.7 in c:\\users\\sefun\\anaconda3\\lib\\site-packages (from yfinance<0.1.63->qiskit-aqua==0.9.4->qiskit) (0.0.9)\n",
      "Requirement already satisfied: ntlm-auth>=1.0.2 in c:\\users\\sefun\\anaconda3\\lib\\site-packages (from requests-ntlm>=1.1.0->qiskit-ibmq-provider==0.15.0->qiskit) (1.5.0)\n",
      "Requirement already satisfied: cryptography>=1.3 in c:\\users\\sefun\\anaconda3\\lib\\site-packages (from requests-ntlm>=1.1.0->qiskit-ibmq-provider==0.15.0->qiskit) (3.1.1)\n",
      "Requirement already satisfied: certifi>=2017.4.17 in c:\\users\\sefun\\anaconda3\\lib\\site-packages (from requests>=2.19->qiskit-ibmq-provider==0.15.0->qiskit) (2020.12.5)\n",
      "Requirement already satisfied: idna<3,>=2.5 in c:\\users\\sefun\\anaconda3\\lib\\site-packages (from requests>=2.19->qiskit-ibmq-provider==0.15.0->qiskit) (2.10)\n",
      "Requirement already satisfied: chardet<4,>=3.0.2 in c:\\users\\sefun\\anaconda3\\lib\\site-packages (from requests>=2.19->qiskit-ibmq-provider==0.15.0->qiskit) (3.0.4)\n",
      "Requirement already satisfied: pyrsistent>=0.14.0 in c:\\users\\sefun\\anaconda3\\lib\\site-packages (from jsonschema>=2.6->qiskit-terra==0.18.0->qiskit) (0.17.3)\n",
      "Requirement already satisfied: attrs>=17.4.0 in c:\\users\\sefun\\anaconda3\\lib\\site-packages (from jsonschema>=2.6->qiskit-terra==0.18.0->qiskit) (20.3.0)\n",
      "Requirement already satisfied: cffi!=1.11.3,>=1.8 in c:\\users\\sefun\\anaconda3\\lib\\site-packages (from cryptography>=1.3->requests-ntlm>=1.1.0->qiskit-ibmq-provider==0.15.0->qiskit) (1.14.3)\n",
      "Requirement already satisfied: pycparser in c:\\users\\sefun\\anaconda3\\lib\\site-packages (from cffi!=1.11.3,>=1.8->cryptography>=1.3->requests-ntlm>=1.1.0->qiskit-ibmq-provider==0.15.0->qiskit) (2.20)\n",
      "Note: you may need to restart the kernel to use updated packages.\n"
     ]
    }
   ],
   "source": [
    "pip install qiskit"
   ]
  },
  {
   "cell_type": "code",
   "execution_count": 2,
   "metadata": {},
   "outputs": [],
   "source": [
    "my_list = [1,2,3,5,6,7,8,9,0,4]"
   ]
  },
  {
   "cell_type": "code",
   "execution_count": 3,
   "metadata": {},
   "outputs": [],
   "source": [
    "def the_oracle(my_input):\n",
    "    winner = 7\n",
    "    if my_input is winner:\n",
    "        response = True\n",
    "    else:\n",
    "        response = False\n",
    "    \n",
    "    return response\n",
    "            "
   ]
  },
  {
   "cell_type": "code",
   "execution_count": 6,
   "metadata": {},
   "outputs": [
    {
     "name": "stdout",
     "output_type": "stream",
     "text": [
      "Winner found at index 5\n",
      "6i calls to the Oracle used\n"
     ]
    }
   ],
   "source": [
    "for index,trial_number in enumerate(my_list):\n",
    "    if the_oracle(trial_number) is True:\n",
    "        print('Winner found at index %i'%index)\n",
    "        print('%i calls to the Oracle used'%(index+1))\n",
    "        break"
   ]
  },
  {
   "cell_type": "code",
   "execution_count": null,
   "metadata": {},
   "outputs": [],
   "source": []
  }
 ],
 "metadata": {
  "kernelspec": {
   "display_name": "Python 3",
   "language": "python",
   "name": "python3"
  },
  "language_info": {
   "codemirror_mode": {
    "name": "ipython",
    "version": 3
   },
   "file_extension": ".py",
   "mimetype": "text/x-python",
   "name": "python",
   "nbconvert_exporter": "python",
   "pygments_lexer": "ipython3",
   "version": "3.8.5"
  }
 },
 "nbformat": 4,
 "nbformat_minor": 4
}
